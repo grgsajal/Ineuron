{
 "cells": [
  {
   "cell_type": "code",
   "execution_count": 28,
   "metadata": {},
   "outputs": [
    {
     "name": "stdout",
     "output_type": "stream",
     "text": [
      "Enter Kilometers: 144\n",
      "144 Kilometeres in Miles: 89.477424\n"
     ]
    }
   ],
   "source": [
    "#python program to convert kilometers to miles\n",
    "a=int(input('Enter Kilometers: '))\n",
    "print('{0} Kilometeres in Miles:'.format(a) ,a*0.621371)"
   ]
  },
  {
   "cell_type": "code",
   "execution_count": 29,
   "metadata": {},
   "outputs": [
    {
     "name": "stdout",
     "output_type": "stream",
     "text": [
      "Enter Temperature in celsius: 19\n",
      "19 celsius in Fahrenheit: 66.2\n"
     ]
    }
   ],
   "source": [
    "#python program to convert Celsius to Fahrenheit\n",
    "a=int(input('Enter Temperature in celsius: '))\n",
    "print('{0} celsius in Fahrenheit:'.format(a),1.8*a + 32)"
   ]
  },
  {
   "cell_type": "code",
   "execution_count": 31,
   "metadata": {},
   "outputs": [
    {
     "name": "stdout",
     "output_type": "stream",
     "text": [
      "Enter Year: 1999\n",
      "Enter Month: 01\n",
      "Calendar for 1-1999 :\n",
      "     January 1999\n",
      "Mo Tu We Th Fr Sa Su\n",
      "             1  2  3\n",
      " 4  5  6  7  8  9 10\n",
      "11 12 13 14 15 16 17\n",
      "18 19 20 21 22 23 24\n",
      "25 26 27 28 29 30 31\n",
      "\n"
     ]
    }
   ],
   "source": [
    "#python program to display calendar\n",
    "import calendar\n",
    "a=int(input('Enter Year: '))\n",
    "b=int(input('Enter Month: '))\n",
    "print('Calendar for {0}-{1} :\\n'.format(b,a), calendar.month(a,b))"
   ]
  },
  {
   "cell_type": "code",
   "execution_count": 41,
   "metadata": {},
   "outputs": [
    {
     "name": "stdout",
     "output_type": "stream",
     "text": [
      "Enter First Number: 6\n",
      "Enter Second Number: 11\n",
      "Enter Third Number: 4\n",
      "The Roots for the quadratic equation are: -0.5 and -1.3333333333333333\n"
     ]
    }
   ],
   "source": [
    "#python program to solve Quadratic Equation\n",
    "import cmath\n",
    "a=int(input('Enter First Number: '))\n",
    "b=int(input('Enter Second Number: '))\n",
    "c=int(input('Enter Third Number: '))\n",
    "if a==0:\n",
    "    print('Invalid Quadratic Equation')\n",
    "else:\n",
    "    d=(b*b - 4*a*c)\n",
    "    r1=(-b + d**.5)/(2*a)\n",
    "    r2=(-b - d**.5)/(2*a)\n",
    "    print('The Roots for the quadratic equation are: {0} and {1}'.format(r1,r2))"
   ]
  },
  {
   "cell_type": "code",
   "execution_count": 45,
   "metadata": {},
   "outputs": [
    {
     "name": "stdout",
     "output_type": "stream",
     "text": [
      "Enter First Variable 1\n",
      "Enter Second Variable: 2\n",
      "After Swaping\n",
      "First Variable: 2\n",
      "Second Variable: 1\n"
     ]
    }
   ],
   "source": [
    "#python program to swap two variables without using temp variable \n",
    "a=int(input('Enter First Variable '))\n",
    "b=int(input('Enter Second Variable: '))\n",
    "a,b=b,a\n",
    "print('After Swaping')\n",
    "print('First Variable:',a)\n",
    "print('Second Variable:',b)"
   ]
  },
  {
   "cell_type": "code",
   "execution_count": null,
   "metadata": {},
   "outputs": [],
   "source": []
  }
 ],
 "metadata": {
  "kernelspec": {
   "display_name": "Python 3",
   "language": "python",
   "name": "python3"
  },
  "language_info": {
   "codemirror_mode": {
    "name": "ipython",
    "version": 3
   },
   "file_extension": ".py",
   "mimetype": "text/x-python",
   "name": "python",
   "nbconvert_exporter": "python",
   "pygments_lexer": "ipython3",
   "version": "3.6.5"
  }
 },
 "nbformat": 4,
 "nbformat_minor": 2
}
