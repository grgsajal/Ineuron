{
 "cells": [
  {
   "cell_type": "code",
   "execution_count": 1,
   "metadata": {},
   "outputs": [
    {
     "name": "stdout",
     "output_type": "stream",
     "text": [
      "Hello Python\n"
     ]
    }
   ],
   "source": [
    "#python program to print 'Hello Python'\n",
    "print(\"Hello Python\")"
   ]
  },
  {
   "cell_type": "code",
   "execution_count": 4,
   "metadata": {},
   "outputs": [
    {
     "name": "stdout",
     "output_type": "stream",
     "text": [
      "Enter First Number: 1\n",
      "Enter Second Number: 2\n",
      "Addition:  3\n",
      "Divison:  0.5\n",
      "Subtraction:  -1\n",
      "Multiplication:  2\n"
     ]
    }
   ],
   "source": [
    "#python program to do arithmetical operations\n",
    "a=int(input('Enter First Number: '))\n",
    "b=int(input('Enter Second Number: '))\n",
    "print('Addition: ',a+b)\n",
    "print('Divison: ',a/b)\n",
    "print('Subtraction: ',a-b)\n",
    "print('Multiplication: ',a*b)"
   ]
  },
  {
   "cell_type": "code",
   "execution_count": 9,
   "metadata": {},
   "outputs": [
    {
     "name": "stdout",
     "output_type": "stream",
     "text": [
      "Enter Base(in cm): 1\n",
      "Enter Height(in cm): 1\n",
      "Area of Triangle(in cm):  0.5\n"
     ]
    }
   ],
   "source": [
    "#python program to find the area of triangle\n",
    "a=int(input('Enter Base(in cm): '))\n",
    "b=int(input('Enter Height(in cm): '))\n",
    "print('Area of Triangle(in cm): ',(a*b)/2)"
   ]
  },
  {
   "cell_type": "code",
   "execution_count": 10,
   "metadata": {},
   "outputs": [
    {
     "name": "stdout",
     "output_type": "stream",
     "text": [
      "Enter Value of First Variable: 10\n",
      "Enter Value Of Second Variable: 20\n",
      "Value of First Variable after Swaping:  20\n",
      "Value of Second Variable after Swaping:  10\n"
     ]
    }
   ],
   "source": [
    "#python program to swap two variables\n",
    "a=int(input('Enter Value of First Variable: '))\n",
    "b=int(input('Enter Value Of Second Variable: '))\n",
    "temp = a\n",
    "a = b\n",
    "b = temp\n",
    "print('Value of First Variable after Swaping: ',a)\n",
    "print('Value of Second Variable after Swaping: ',b)\n"
   ]
  },
  {
   "cell_type": "code",
   "execution_count": 15,
   "metadata": {},
   "outputs": [
    {
     "name": "stdout",
     "output_type": "stream",
     "text": [
      "Enter your list size: 20\n",
      "Random number:  5\n"
     ]
    }
   ],
   "source": [
    "#python program to generate a random number\n",
    "import random\n",
    "a=int(input(\"Enter your list size: \"))\n",
    "b=list(range(a))\n",
    "print('Random number: ',random.choice(b))"
   ]
  },
  {
   "cell_type": "code",
   "execution_count": null,
   "metadata": {},
   "outputs": [],
   "source": []
  }
 ],
 "metadata": {
  "kernelspec": {
   "display_name": "Python 3",
   "language": "python",
   "name": "python3"
  },
  "language_info": {
   "codemirror_mode": {
    "name": "ipython",
    "version": 3
   },
   "file_extension": ".py",
   "mimetype": "text/x-python",
   "name": "python",
   "nbconvert_exporter": "python",
   "pygments_lexer": "ipython3",
   "version": "3.6.5"
  }
 },
 "nbformat": 4,
 "nbformat_minor": 2
}
