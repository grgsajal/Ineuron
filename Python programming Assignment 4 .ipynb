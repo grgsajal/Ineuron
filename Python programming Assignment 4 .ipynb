{
 "cells": [
  {
   "cell_type": "code",
   "execution_count": 26,
   "metadata": {},
   "outputs": [
    {
     "name": "stdout",
     "output_type": "stream",
     "text": [
      "Enter any number: 21\n",
      "Factorial of 21 is: 51090942171709440000\n"
     ]
    }
   ],
   "source": [
    "#Python program to find factorial of a number\n",
    "a=int(input(\"Enter any number: \"))\n",
    "f=1\n",
    "if a<0:\n",
    "    print(\"Factorial of negative number doesn't exist\")\n",
    "elif a==0:\n",
    "    print(\"factorial of {0} is 1\".format(a))\n",
    "else:\n",
    "    for i in range(1,a+1):\n",
    "        f=f*i\n",
    "    print(\"Factorial of {0} is:\".format(a),f)"
   ]
  },
  {
   "cell_type": "code",
   "execution_count": 27,
   "metadata": {},
   "outputs": [
    {
     "name": "stdout",
     "output_type": "stream",
     "text": [
      "Enter a number: 19\n",
      "Multiplication Table of 19 :\n",
      "19 x 1 = 19\n",
      "19 x 2 = 38\n",
      "19 x 3 = 57\n",
      "19 x 4 = 76\n",
      "19 x 5 = 95\n",
      "19 x 6 = 114\n",
      "19 x 7 = 133\n",
      "19 x 8 = 152\n",
      "19 x 9 = 171\n",
      "19 x 10 = 190\n"
     ]
    }
   ],
   "source": [
    "#Python Program to display multiplication table\n",
    "a=int(input(\"Enter a number: \"))\n",
    "print('Multiplication Table of',a,':')\n",
    "for i in range(1,11):\n",
    "    print(a,'x',i,'=',a*i)\n",
    "    "
   ]
  },
  {
   "cell_type": "code",
   "execution_count": 29,
   "metadata": {},
   "outputs": [
    {
     "name": "stdout",
     "output_type": "stream",
     "text": [
      "Enter the number of terms for Fibonacci Sequence: 7\n",
      "0\n",
      "1\n",
      "1\n",
      "2\n",
      "3\n",
      "5\n",
      "8\n"
     ]
    }
   ],
   "source": [
    "#python program to print fibonacci Sequence\n",
    "a=int(input(\"Enter the number of terms for Fibonacci Sequence: \"))\n",
    "n1,n2 = 0,1\n",
    "c=0\n",
    "if a==0:\n",
    "    print(\"Please Enter Positive Value\")\n",
    "elif a==1:\n",
    "    print(\"Fibonacci Sequence for\",a,':',n1)\n",
    "else:\n",
    "    while c<a:\n",
    "        print(n1)\n",
    "        n=n1+n2\n",
    "        n1=n2\n",
    "        n2=n\n",
    "        c += 1"
   ]
  },
  {
   "cell_type": "code",
   "execution_count": 24,
   "metadata": {},
   "outputs": [
    {
     "name": "stdout",
     "output_type": "stream",
     "text": [
      "Enter any number: 12134\n",
      "12134 is not Armstrong number\n"
     ]
    }
   ],
   "source": [
    "#python program to check armstrong number\n",
    "a=input('Enter any number: ')\n",
    "b=len(a)\n",
    "B=0\n",
    "for i in a:\n",
    "    B=B+int(i)**b \n",
    "if B==int(a):\n",
    "     print(a,'is Armstrong number')\n",
    "else:\n",
    "    print(a,'is not Armstrong number')\n"
   ]
  },
  {
   "cell_type": "code",
   "execution_count": 18,
   "metadata": {
    "scrolled": true
   },
   "outputs": [
    {
     "name": "stdout",
     "output_type": "stream",
     "text": [
      "Enter first number of your interval: 0\n",
      "Enter Last number of your interval: 1051\n",
      "Armstrong Number: 0\n",
      "Armstrong Number: 1\n",
      "Armstrong Number: 2\n",
      "Armstrong Number: 3\n",
      "Armstrong Number: 4\n",
      "Armstrong Number: 5\n",
      "Armstrong Number: 6\n",
      "Armstrong Number: 7\n",
      "Armstrong Number: 8\n",
      "Armstrong Number: 9\n",
      "Armstrong Number: 153\n",
      "Armstrong Number: 370\n",
      "Armstrong Number: 370\n",
      "Armstrong Number: 371\n",
      "Armstrong Number: 407\n"
     ]
    }
   ],
   "source": [
    "#python program to find armstrong number in an interval\n",
    "a=int(input('Enter first number of your interval: '))\n",
    "b=int(input('Enter Last number of your interval: '))\n",
    "c=range(a,b+1)\n",
    "if a<0 or b<0:\n",
    "    print(\"Please enter positive interval\")\n",
    "else:\n",
    "    for i in c:\n",
    "        e=str(i)\n",
    "        l=len(e)\n",
    "        B=0\n",
    "        for j in e:\n",
    "            B=B+int(j)**l\n",
    "            if B==int(e):\n",
    "                print('Armstrong Number:',B)\n",
    "    if B==0:\n",
    "        print('There is no armstrong number in this range')\n"
   ]
  },
  {
   "cell_type": "code",
   "execution_count": 30,
   "metadata": {},
   "outputs": [
    {
     "name": "stdout",
     "output_type": "stream",
     "text": [
      "Enter no. of terms: 21\n",
      "Sum of 21 natural numbers: 231\n"
     ]
    }
   ],
   "source": [
    "#python program to print sum of natural numbers\n",
    "a=int(input(\"Enter no. of terms: \"))\n",
    "c=0\n",
    "n=a\n",
    "if a<=0:\n",
    "    print('Please enter positive integer')\n",
    "else:\n",
    "    while a>0:\n",
    "        c=c+a\n",
    "        a=a-1\n",
    "    print('Sum of',n,'natural numbers:',c)\n",
    "    \n",
    "    "
   ]
  },
  {
   "cell_type": "code",
   "execution_count": null,
   "metadata": {},
   "outputs": [],
   "source": []
  },
  {
   "cell_type": "code",
   "execution_count": null,
   "metadata": {},
   "outputs": [],
   "source": []
  }
 ],
 "metadata": {
  "kernelspec": {
   "display_name": "Python 3",
   "language": "python",
   "name": "python3"
  },
  "language_info": {
   "codemirror_mode": {
    "name": "ipython",
    "version": 3
   },
   "file_extension": ".py",
   "mimetype": "text/x-python",
   "name": "python",
   "nbconvert_exporter": "python",
   "pygments_lexer": "ipython3",
   "version": "3.6.5"
  }
 },
 "nbformat": 4,
 "nbformat_minor": 2
}
