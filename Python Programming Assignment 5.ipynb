{
 "cells": [
  {
   "cell_type": "code",
   "execution_count": 27,
   "metadata": {},
   "outputs": [
    {
     "name": "stdout",
     "output_type": "stream",
     "text": [
      "Enter first number: 1\n",
      "Enter Second number: 1\n",
      "Lcm of 1 and 1 is 1\n"
     ]
    }
   ],
   "source": [
    "#Python program to Compute LCM of two numbers\n",
    "def lcm(a,b):\n",
    "    \"\"\"\n",
    "    This function will compute Lcm of two numbers.\n",
    "    \n",
    "    \"\"\"\n",
    "    if a>b:\n",
    "        max=a\n",
    "    else:\n",
    "        max=b\n",
    "    while(True):\n",
    "        if max%a==0 and max%b==0:\n",
    "            Lcm=max\n",
    "            break\n",
    "        max=max+1\n",
    "    return Lcm\n",
    "    \n",
    "a=int(input('Enter first number: '))\n",
    "b=int(input('Enter Second number: '))\n",
    "print('Lcm of',a,'and',b,'is',lcm(a,b))\n"
   ]
  },
  {
   "cell_type": "code",
   "execution_count": 30,
   "metadata": {},
   "outputs": [
    {
     "name": "stdout",
     "output_type": "stream",
     "text": [
      "Enter first number: 12\n",
      "Enter second number: 8\n",
      "HCF of 12 and 8 is 4\n"
     ]
    }
   ],
   "source": [
    "#Python program to Compute HCF of two numbers\n",
    "def hcf(a,b):\n",
    "    \"\"\"\n",
    "    This Function is to Compute HCF of two Numbers.\n",
    "    \"\"\"\n",
    "    if a<b:\n",
    "        min=a\n",
    "    else:\n",
    "        min=b\n",
    "    for i in range(1,min+1):\n",
    "        if a%i==0 and b%i==0:\n",
    "            HCF=i\n",
    "    return HCF\n",
    "    \n",
    "a=int(input('Enter first number: '))\n",
    "b=int(input('Enter second number: '))\n",
    "print('HCF of',a,'and',b,'is',hcf(a,b))"
   ]
  },
  {
   "cell_type": "code",
   "execution_count": 14,
   "metadata": {},
   "outputs": [
    {
     "name": "stdout",
     "output_type": "stream",
     "text": [
      "Enter First Number: 100\n",
      "Enter Second Number: 30\n",
      "1=Addition\n",
      "2=Subtraction\n",
      "3=Multiplication\n",
      "4=Division\n",
      "Enter your choice of Operation: 4\n",
      "Division: 3.3333333333333335\n"
     ]
    }
   ],
   "source": [
    "#python program to make Basic calculator with 4 simple mathematical Operations\n",
    "a=int(input('Enter First Number: '))\n",
    "b=int(input('Enter Second Number: '))\n",
    "print('1=Addition\\n2=Subtraction\\n3=Multiplication\\n4=Division')\n",
    "choice=int(input(\"Enter your choice of Operation: \"))\n",
    "if choice == 1:\n",
    "    print('Sum:',a+b)\n",
    "elif choice==2:\n",
    "    print('Difference:',a-b)\n",
    "elif choice==3:\n",
    "    print('Product:',a*b)\n",
    "elif choice==4:\n",
    "    print('Division:',a/b)\n",
    "else:\n",
    "    print('Please Enter correct Choice From above Options.')"
   ]
  },
  {
   "cell_type": "code",
   "execution_count": 35,
   "metadata": {},
   "outputs": [
    {
     "name": "stdout",
     "output_type": "stream",
     "text": [
      "Enter any character to get its ASCII value: a\n",
      "ASCII value of a is 97\n"
     ]
    }
   ],
   "source": [
    "#Python program to get ASCII value of a character\n",
    "a=input('Enter any character to get its ASCII value: ')\n",
    "if len(a)==1:\n",
    "    print('ASCII value of',a,'is',ord(a))\n",
    "else:\n",
    "    print('Please enter single character only')"
   ]
  },
  {
   "cell_type": "code",
   "execution_count": 43,
   "metadata": {},
   "outputs": [
    {
     "name": "stdout",
     "output_type": "stream",
     "text": [
      "Enter any number to convert it into Binary,Octal and Hexadecimal: 12\n",
      "Binary conversion of 12 : 0b1100\n",
      "Octal coversion of 12 : 0o14\n",
      "Hexadecimal conversion of 12 : 0xc\n"
     ]
    }
   ],
   "source": [
    "#Python program to convert Decimal to Binary,Octal and Hexadecimal\n",
    "a=int(input('Enter any number to convert it into Binary,Octal and Hexadecimal: '))\n",
    "print('Binary conversion of',a,':',bin(a))\n",
    "print('Octal coversion of',a,':',oct(a))\n",
    "print('Hexadecimal conversion of',a,':',hex(a))"
   ]
  },
  {
   "cell_type": "code",
   "execution_count": null,
   "metadata": {},
   "outputs": [],
   "source": []
  }
 ],
 "metadata": {
  "kernelspec": {
   "display_name": "Python 3",
   "language": "python",
   "name": "python3"
  },
  "language_info": {
   "codemirror_mode": {
    "name": "ipython",
    "version": 3
   },
   "file_extension": ".py",
   "mimetype": "text/x-python",
   "name": "python",
   "nbconvert_exporter": "python",
   "pygments_lexer": "ipython3",
   "version": "3.6.5"
  }
 },
 "nbformat": 4,
 "nbformat_minor": 2
}
